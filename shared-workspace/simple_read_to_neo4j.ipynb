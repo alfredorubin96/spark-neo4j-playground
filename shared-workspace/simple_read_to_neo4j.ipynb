{
 "cells": [
  {
   "cell_type": "markdown",
   "source": [
    "First we need to download the Spark Connector for Neo4j from its Github repository"
   ],
   "metadata": {
    "collapsed": false,
    "pycharm": {
     "name": "#%% md\n"
    }
   }
  },
  {
   "cell_type": "code",
   "execution_count": null,
   "metadata": {
    "collapsed": true,
    "pycharm": {
     "name": "#%%\n"
    }
   },
   "outputs": [],
   "source": [
    "import wget\n",
    "\n",
    "url = 'https://github.com/neo4j-contrib/neo4j-spark-connector/releases/download/4.1.5/neo4j-connector-apache-spark_2.12-4.1.5_for_spark_3.jar'\n",
    "filename = wget.download(url)"
   ]
  },
  {
   "cell_type": "markdown",
   "source": [
    "Let's test the connection of our cluster to Neo4j"
   ],
   "metadata": {
    "collapsed": false,
    "pycharm": {
     "name": "#%% md\n"
    }
   }
  },
  {
   "cell_type": "code",
   "execution_count": null,
   "outputs": [],
   "source": [
    "from pyspark.sql import SparkSession\n",
    "import os\n",
    "\n",
    "# Providing the downloaded jar to the pyspark-shell\n",
    "os.environ[\n",
    "    'PYSPARK_SUBMIT_ARGS'] = f'--jars {filename} pyspark-shell'\n",
    "\n",
    "#Ip address of the Neo4j database\n",
    "NEO4J_IP_ADDRESS = \"IP_ADDRESS_OF_THE_DATABASE\"\n",
    "\n",
    "# Building our SparkSession\n",
    "spark = SparkSession.\\\n",
    "        builder.\\\n",
    "        appName(\"pyspark-notebook\").\\\n",
    "        master(\"spark://spark-master:7077\").\\\n",
    "        config(\"spark.executor.memory\", \"512m\").\\\n",
    "        getOrCreate()\n",
    "\n",
    "# Reading all the nodes from Neo4j\n",
    "x = spark.read.format(\"org.neo4j.spark.DataSource\") \\\n",
    "        .option(\"url\", f\"bolt://{NEO4J_IP_ADDRESS}:7687\") \\\n",
    "        .option(\"authentication.basic.username\", \"neo4j\") \\\n",
    "        .option(\"authentication.basic.password\", \"test\") \\\n",
    "        .option(\"query\", \"MATCH (n) RETURN n\") \\\n",
    "        .load()\n",
    "\n",
    "# Showing the result of the read\n",
    "x.show()"
   ],
   "metadata": {
    "collapsed": false,
    "pycharm": {
     "name": "#%%\n"
    }
   }
  }
 ],
 "metadata": {
  "kernelspec": {
   "display_name": "Python 3",
   "language": "python",
   "name": "python3"
  },
  "language_info": {
   "codemirror_mode": {
    "name": "ipython",
    "version": 2
   },
   "file_extension": ".py",
   "mimetype": "text/x-python",
   "name": "python",
   "nbconvert_exporter": "python",
   "pygments_lexer": "ipython2",
   "version": "2.7.6"
  }
 },
 "nbformat": 4,
 "nbformat_minor": 0
}