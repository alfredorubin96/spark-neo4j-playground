{
 "cells": [
  {
   "cell_type": "code",
   "execution_count": null,
   "outputs": [],
   "source": [
    "!pip install pandas"
   ],
   "metadata": {
    "collapsed": false,
    "pycharm": {
     "name": "#%%\n"
    }
   }
  },
  {
   "cell_type": "code",
   "execution_count": null,
   "metadata": {
    "collapsed": true,
    "pycharm": {
     "name": "#%%\n"
    }
   },
   "outputs": [],
   "source": [
    "import wget, os\n",
    "\n",
    "# Getting the name of the Spark Connector from its URL\n",
    "dataset = url.split(\"/\")[-1]\n",
    "\n",
    "# Download it only if it's not present\n",
    "if dataset not in os.listdir():\n",
    "    print(\"Downlading dataset\")\n",
    "    dataset = wget.download(url)"
   ]
  },
  {
   "cell_type": "code",
   "execution_count": null,
   "outputs": [],
   "source": [
    "url = 'https://github.com/neo4j-contrib/neo4j-spark-connector/releases/download/4.1.5/neo4j-connector-apache-spark_2.12-4.1.5_for_spark_3.jar'\n",
    "\n",
    "# Getting the name of the Spark Connector from its URL\n",
    "filename = url.split(\"/\")[-1]\n",
    "\n",
    "# Download it only if it's not present\n",
    "if filename not in os.listdir():\n",
    "    print(\"Downlading Spark Connector\")\n",
    "    filename = wget.download(url)"
   ],
   "metadata": {
    "collapsed": false,
    "pycharm": {
     "name": "#%%\n"
    }
   }
  },
  {
   "cell_type": "code",
   "execution_count": null,
   "outputs": [],
   "source": [
    "from pyspark.sql import SparkSession\n",
    "import os\n",
    "import pandas as pd\n",
    "\n",
    "# Providing the downloaded jar to the pyspark-shell\n",
    "os.environ[\n",
    "    'PYSPARK_SUBMIT_ARGS'] = f'--jars {filename} pyspark-shell'\n",
    "\n",
    "#Ip address of the Neo4j database\n",
    "NEO4J_IP_ADDRESS = \"linktodb\"\n",
    "\n",
    "# Building our SparkSession\n",
    "spark = SparkSession.\\\n",
    "        builder.\\\n",
    "        appName(\"pyspark-notebook\").\\\n",
    "        master(\"spark://spark-master:7077\").\\\n",
    "        config(\"spark.executor.memory\", \"1536m\").\\\n",
    "        getOrCreate()"
   ],
   "metadata": {
    "collapsed": false,
    "pycharm": {
     "name": "#%%\n"
    }
   }
  },
  {
   "cell_type": "code",
   "execution_count": null,
   "outputs": [],
   "source": [
    "df_pd = pd.read_csv(dataset)\n",
    "sparkDF=spark.createDataFrame(df_pd)\n",
    "sparkDF.show()"
   ],
   "metadata": {
    "collapsed": false,
    "pycharm": {
     "name": "#%%\n"
    }
   }
  },
  {
   "cell_type": "code",
   "execution_count": null,
   "outputs": [],
   "source": [
    "#TODO: define create for this use case\n",
    "sparkDF.write.format(\"org.neo4j.spark.DataSource\")\\\n",
    ".mode(\"overwrite\")\\\n",
    ".option(\"url\", f\"bolt://{NEO4J_IP_ADDRESS}:7687\")\\\n",
    ".option(\"authentication.basic.username\", \"neo4j\")\\\n",
    ".option(\"authentication.basic.password\", \"test\")\\\n",
    ".option(\"batch.size\", \"5000\")\\\n",
    ".option(\"database\", \"neo4j\")\\\n",
    ".option(\"labels\",\"Test\")\\\n",
    ".option(\"node.keys\",\"Postcode\")\\\n",
    ".option(\"script\",\"\"\"CREATE CONSTRAINT IF NOT EXISTS FOR (t:Test) REQUIRE t.Postcode IS UNIQUE;\"\"\")\\\n",
    ".save()"
   ],
   "metadata": {
    "collapsed": false,
    "pycharm": {
     "name": "#%%\n"
    }
   }
  },
  {
   "cell_type": "code",
   "execution_count": null,
   "outputs": [],
   "source": [
    "# Close the SparkSession\n",
    "spark.stop()"
   ],
   "metadata": {
    "collapsed": false,
    "pycharm": {
     "name": "#%%\n"
    }
   }
  }
 ],
 "metadata": {
  "kernelspec": {
   "display_name": "Python 3",
   "language": "python",
   "name": "python3"
  },
  "language_info": {
   "codemirror_mode": {
    "name": "ipython",
    "version": 2
   },
   "file_extension": ".py",
   "mimetype": "text/x-python",
   "name": "python",
   "nbconvert_exporter": "python",
   "pygments_lexer": "ipython2",
   "version": "2.7.6"
  }
 },
 "nbformat": 4,
 "nbformat_minor": 0
}