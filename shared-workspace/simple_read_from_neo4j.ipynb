{
 "cells": [
  {
   "cell_type": "markdown",
   "source": [
    "First we need to download the Spark Connector for Neo4j from its Github repository"
   ],
   "metadata": {
    "collapsed": false,
    "pycharm": {
     "name": "#%% md\n"
    }
   }
  },
  {
   "cell_type": "code",
   "execution_count": null,
   "metadata": {
    "collapsed": true,
    "pycharm": {
     "name": "#%%\n",
     "is_executing": true
    }
   },
   "outputs": [],
   "source": [
    "import wget, os\n",
    "url = 'https://github.com/neo4j-contrib/neo4j-spark-connector/releases/download/5.0.0/neo4j-connector-apache-spark_2.12-5.0.0_for_spark_3.jar'\n",
    "\n",
    "# Getting the name of the Spark Connector from its URL\n",
    "filename = url.split(\"/\")[-1]\n",
    "\n",
    "# Download it only if it's not present\n",
    "if filename not in os.listdir():\n",
    "    print(\"Downlading Spark Connector\")\n",
    "    filename = wget.download(url)"
   ]
  },
  {
   "cell_type": "markdown",
   "source": [
    "Let's test the connection of our cluster to Neo4j"
   ],
   "metadata": {
    "collapsed": false,
    "pycharm": {
     "name": "#%% md\n"
    }
   }
  },
  {
   "cell_type": "code",
   "execution_count": null,
   "outputs": [],
   "source": [
    "from pyspark.sql import SparkSession\n",
    "import os\n",
    "\n",
    "# Providing the downloaded jar to the pyspark-shell\n",
    "os.environ[\n",
    "    'PYSPARK_SUBMIT_ARGS'] = f'--jars {filename} pyspark-shell'\n",
    "\n",
    "#Ip address of the Neo4j database, you need also to provide its port number\n",
    "# If you want to connect to your local Neo4j instance in MacOS and Windows\n",
    "# please use this instead of localhost -> host.docker.internal\n",
    "NEO4J_IP_ADDRESS = \"ip_address_of_neo4j:bolt_port_number(usually is 7687)\"\n",
    "\n",
    "# Building our SparkSession\n",
    "spark = SparkSession.\\\n",
    "        builder.\\\n",
    "        appName(\"pyspark-notebook\").\\\n",
    "        master(\"spark://spark-master:7077\").\\\n",
    "        config(\"spark.executor.memory\", \"512m\").\\\n",
    "        getOrCreate()\n",
    "\n",
    "# Reading all the nodes from Neo4j\n",
    "x = spark.read.format(\"org.neo4j.spark.DataSource\") \\\n",
    "        .option(\"url\", f\"bolt://{NEO4J_IP_ADDRESS}\") \\\n",
    "        .option(\"authentication.basic.username\", \"neo4j\") \\\n",
    "        .option(\"authentication.basic.password\", \"test\") \\\n",
    "        .option(\"query\", \"MATCH (n) RETURN n LIMIT 10\") \\\n",
    "        .load()\n",
    "\n",
    "# Showing the result of the read\n",
    "x.show()"
   ],
   "metadata": {
    "collapsed": false,
    "pycharm": {
     "name": "#%%\n"
    }
   }
  },
  {
   "cell_type": "code",
   "execution_count": null,
   "outputs": [],
   "source": [
    "# Close the SparkSession\n",
    "spark.stop()"
   ],
   "metadata": {
    "collapsed": false,
    "pycharm": {
     "name": "#%%\n"
    }
   }
  }
 ],
 "metadata": {
  "kernelspec": {
   "display_name": "Python 3",
   "language": "python",
   "name": "python3"
  },
  "language_info": {
   "codemirror_mode": {
    "name": "ipython",
    "version": 2
   },
   "file_extension": ".py",
   "mimetype": "text/x-python",
   "name": "python",
   "nbconvert_exporter": "python",
   "pygments_lexer": "ipython2",
   "version": "2.7.6"
  }
 },
 "nbformat": 4,
 "nbformat_minor": 0
}